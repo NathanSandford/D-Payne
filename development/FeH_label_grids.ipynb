{
 "cells": [
  {
   "cell_type": "code",
   "execution_count": 13,
   "metadata": {},
   "outputs": [],
   "source": [
    "import numpy as np"
   ]
  },
  {
   "cell_type": "code",
   "execution_count": 21,
   "metadata": {},
   "outputs": [],
   "source": [
    "Teff_array = np.arange(3000,12000,100)\n",
    "logg_array = np.arange(0.5,5.0,0.5)\n",
    "alphafe = 0.0\n",
    "feh = -4.0"
   ]
  },
  {
   "cell_type": "code",
   "execution_count": 22,
   "metadata": {},
   "outputs": [],
   "source": [
    "Teff = []\n",
    "logg = []\n",
    "FeH = []\n",
    "AlphaFe = []\n",
    "\n",
    "for t in Teff_array:\n",
    "    for g in logg_array:\n",
    "        Teff.append(t)\n",
    "        logg.append(g)\n",
    "        FeH.append(feh)\n",
    "        AlphaFe.append(alphafe)\n",
    "\n",
    "Teff = np.asarray(Teff).flatten()\n",
    "logg = np.asarray(logg).flatten()\n",
    "FeH = np.asarray(FeH).flatten()\n",
    "AlphaFe = np.asarray(AlphaFe).flatten()\n",
    "\n",
    "labels = np.asarray([Teff,logg,FeH,AlphaFe])\n",
    "np.savez('/global/home/users/nathan_sandford/kurucz/input/grid_fehm4.npz',labels=labels)"
   ]
  },
  {
   "cell_type": "code",
   "execution_count": null,
   "metadata": {},
   "outputs": [],
   "source": []
  }
 ],
 "metadata": {
  "kernelspec": {
   "display_name": "Python [default]",
   "language": "python",
   "name": "python3"
  },
  "language_info": {
   "codemirror_mode": {
    "name": "ipython",
    "version": 3
   },
   "file_extension": ".py",
   "mimetype": "text/x-python",
   "name": "python",
   "nbconvert_exporter": "python",
   "pygments_lexer": "ipython3",
   "version": "3.5.5"
  }
 },
 "nbformat": 4,
 "nbformat_minor": 2
}
