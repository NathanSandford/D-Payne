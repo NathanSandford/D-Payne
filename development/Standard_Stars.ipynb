{
 "cells": [
  {
   "cell_type": "code",
   "execution_count": 16,
   "metadata": {},
   "outputs": [],
   "source": [
    "import numpy as np\n",
    "import matplotlib.pyplot as plt\n",
    "from astropy import visualization\n",
    "from astropy import units as u\n",
    "from astropy.coordinates import SkyCoord\n",
    "from astropy.io import fits\n",
    "import sys\n",
    "import os\n",
    "import glob\n",
    "\n",
    "import utils"
   ]
  },
  {
   "cell_type": "code",
   "execution_count": 10,
   "metadata": {},
   "outputs": [],
   "source": [
    "D_PayneDir = utils.D_PayneDir\n",
    "Standards_Dir = D_PayneDir+'other_data/standards/'"
   ]
  },
  {
   "cell_type": "code",
   "execution_count": 32,
   "metadata": {},
   "outputs": [],
   "source": [
    "def find_obj_in_sample(Obj_RA_Dec, Sample_RA_Dec, sep=0.0001*u.deg, nsteps=10, verbose=True):\n",
    "    coord = Obj_RA_Dec\n",
    "    for i in range(nsteps):\n",
    "        match_ind = np.argwhere(Sample_RA_Dec.separation(coord) < sep)\n",
    "        if len(match_ind) < 1:\n",
    "            sep = sep * 1.1\n",
    "        elif len(match_ind) > 1:\n",
    "            sep = sep * 0.9\n",
    "        elif len(match_ind) == 1:\n",
    "            continue\n",
    "    if len(match_ind) < 1:\n",
    "        if verbose:\n",
    "            print('No Matches within %.2e degrees' % sep.value)\n",
    "        return()\n",
    "    elif len(match_ind) > 1:\n",
    "        if verbose:\n",
    "            print('Multiple Matches within %.2e' % sep.value)\n",
    "        return(match_ind)\n",
    "    else:\n",
    "        if verbose:\n",
    "            print('MATCH FOUND!')\n",
    "        match_ind = match_ind[0,0]\n",
    "        match_sep = Sample_RA_Dec[match_ind].separation(coord).deg\n",
    "        return(match_ind, match_sep)\n",
    "    \n",
    "def restore_observed_spectra(target, method):\n",
    "    SpectraFile = target + '_' + method + '.npz'\n",
    "    temp = np.load(SpectraDir + SpectraFile)\n",
    "    obj = temp['obj']\n",
    "    norm_spec = temp['norm_spec']\n",
    "    spectral_err = temp['spec_err']\n",
    "    dv = temp['dv']\n",
    "    Obs_RA_Dec = SkyCoord(temp['RA_Dec'])\n",
    "    temp.close()\n",
    "    return(obj, norm_spec, spectral_err, dv, Obs_RA_Dec)\n",
    "\n",
    "def restore_APOGEE_standards():\n",
    "    temp = np.genfromtxt(Standards_Dir + 'APOGEEPayne_standards.txt', dtype=str)\n",
    "    APOGEE_ID = temp[:,1]\n",
    "    APOGEE_RA_Dec = SkyCoord([temp[i,1]+' '+temp[i,2] for i in range(len(temp))], unit=u.deg)\n",
    "    Teff = temp[:,3]\n",
    "    Logg = temp[:,4]\n",
    "    MgH = temp[:,9]\n",
    "    FeH = temp[:,18]\n",
    "    Quality = temp[:,-1]\n",
    "    return(APOGEE_ID, APOGEE_RA_Dec, Teff, Logg, MgH, FeH, Quality)\n",
    "\n",
    "def restore_Kirby2010_standards(res='medium'):\n",
    "    fname = Standards_Dir + 'Kirby2010_standards.txt'\n",
    "    with open(fname) as f:\n",
    "        temp = f.readlines()\n",
    "    temp = temp[49:]\n",
    "    temp = [x.strip() for x in temp]\n",
    "    f.close()\n",
    "    \n",
    "    System = np.array([x[:15].replace(\" \",\"\") for x in temp])\n",
    "    Name = np.array([x[15:29].replace(\" \",\"\") for x in temp])\n",
    "    Ref = np.array([x[29:55].replace(\" \",\"\") for x in temp])\n",
    "    RA = [x[55:66].strip().replace(\" \",\":\") for x in temp]\n",
    "    Dec = [x[66:78].strip().replace(\" \",\":\") for x in temp]\n",
    "    kirby_RA_Dec = SkyCoord(RA, Dec, unit=(u.hourangle,u.deg))\n",
    "    \n",
    "    if res == 'high':\n",
    "        Teff = np.array([x[78:83].strip().replace(\" \",\"\") for x in temp],dtype=float)\n",
    "        logg = np.array([x[83:88].strip().replace(\" \",\"\") for x in temp],dtype=float)\n",
    "        Fe_H = np.array([x[93:99].strip().replace(\" \",\"\") for x in temp],dtype=float)\n",
    "        Mg_Fe_temp = [x[104:110].strip().replace(\" \",\"\") for x in temp]\n",
    "        Mg_Fe = np.array(['100' if x=='' else x for x in Mg_Fe_temp],dtype=float)\n",
    "        Mg_Fe[Mg_Fe == 100] = np.nan\n",
    "        Si_Fe_temp = [x[115:121].strip().replace(\" \",\"\") for x in temp]\n",
    "        Si_Fe = np.array(['100' if x=='' else x for x in Si_Fe_temp],dtype=float)\n",
    "        Si_Fe[Si_Fe == 100] = np.nan\n",
    "        Ca_Fe_temp = [x[126:132].strip().replace(\" \",\"\") for x in temp]\n",
    "        Ca_Fe = np.array(['100' if x=='' else x for x in Ca_Fe_temp],dtype=float)\n",
    "        Ca_Fe[Ca_Fe == 100] = np.nan\n",
    "        Ti_Fe_temp = [x[137:143].strip().replace(\" \",\"\") for x in temp]\n",
    "        Ti_Fe = np.array(['100' if x=='' else x for x in Ti_Fe_temp],dtype=float)\n",
    "        Ti_Fe[Ti_Fe == 100] = np.nan\n",
    "    \n",
    "    if res == 'medium':\n",
    "        Teff = np.array([x[148:153].strip().replace(\" \",\"\") for x in temp],dtype=float)\n",
    "        logg = np.array([x[153:158].strip().replace(\" \",\"\") for x in temp],dtype=float)\n",
    "        Fe_H = np.array([x[163:169].strip().replace(\" \",\"\") for x in temp],dtype=float)\n",
    "        Mg_Fe_temp = [x[174:180].strip().replace(\" \",\"\") for x in temp]\n",
    "        Mg_Fe = np.array(['100' if x=='' else x for x in Mg_Fe_temp],dtype=float)\n",
    "        Mg_Fe[Mg_Fe == 100] = np.nan\n",
    "        Si_Fe_temp = [x[185:191].strip().replace(\" \",\"\") for x in temp]\n",
    "        Si_Fe = np.array(['100' if x=='' else x for x in Si_Fe_temp],dtype=float)\n",
    "        Si_Fe[Si_Fe == 100] = np.nan\n",
    "        Ca_Fe_temp = [x[196:202].strip().replace(\" \",\"\") for x in temp]\n",
    "        Ca_Fe = np.array(['100' if x=='' else x for x in Ca_Fe_temp],dtype=float)\n",
    "        Ca_Fe[Ca_Fe == 100] = np.nan\n",
    "        Ti_Fe_temp = [x[207:213].strip().replace(\" \",\"\") for x in temp]\n",
    "        Ti_Fe = np.array(['100' if x=='' else x for x in Ti_Fe_temp],dtype=float)\n",
    "        Ti_Fe[Ti_Fe == 100] = np.nan\n",
    "        \n",
    "    return(kirby_RA_Dec, System, Name, Teff, logg, Fe_H, Mg_Fe, Si_Fe, Ca_Fe, Ti_Fe)\n",
    "\n",
    "\n",
    "def restore_Kirby2008_standards():\n",
    "    fname = Standards_Dir + 'Kirby2008_standards.fit'\n",
    "    hdul = fits.open(fname)\n",
    "    \n",
    "    RA = hdul[1].data['_RAJ2000']\n",
    "    Dec = hdul[1].data['_DEJ2000']\n",
    "    RA_Dec = SkyCoord(RA, Dec, unit=(u.deg,u.deg))\n",
    "    cluster = hdul[1].data['Cluster']\n",
    "    Teff = hdul[1].data['Teff']\n",
    "    logg = hdul[1].data['log_g_']    \n",
    "    FeH_M = hdul[1].data['__Fe_H_M']\n",
    "    alphaFe_M = hdul[1].data['__a_Fe_M']\n",
    "    FeH_H = hdul[1].data['__Fe_H_H']\n",
    "    alphaFe_H = hdul[1].data['__a_Fe_H']\n",
    "    \n",
    "    return(RA_Dec, cluster, Teff, logg, FeH_M, alphaFe_M, FeH_H, alphaFe_H)"
   ]
  },
  {
   "cell_type": "markdown",
   "metadata": {},
   "source": [
    "# Restore Observations"
   ]
  },
  {
   "cell_type": "code",
   "execution_count": 35,
   "metadata": {},
   "outputs": [],
   "source": [
    "SpectraDir = D_PayneDir + 'spectra/obs_spectra/'\n",
    "targets = ['m2', 'm13', 'm15','m71', 'ngc2419', 'ngc7006',\n",
    "           'pegdig', 'pegdig24', 'pegdig26', 'wlm']\n",
    "method = 'Horne'\n",
    "verbose = False\n",
    "\n",
    "# Restore APOGEE standards\n",
    "APOGEE_ID, APOGEE_RA_Dec, APOGEE_Teff, APOGEE_logg,\\\n",
    "    APOGEE_MgH, APOGEE_FeH, APOGEE_Quality = restore_APOGEE_standards()\n",
    "# Restore Kirby+ 2010 standards \n",
    "kirby_RA_Dec, kirby_cluster, kirby_Teff, kirby_logg,\\\n",
    "    kirby_FeH_M, kirby_alphaFe_M, kirby_FeH_H, kirby_alphaFe_H\\\n",
    "    = restore_Kirby2008_standards()"
   ]
  },
  {
   "cell_type": "markdown",
   "metadata": {},
   "source": [
    "# Check APOGEE Payne Sample"
   ]
  },
  {
   "cell_type": "code",
   "execution_count": null,
   "metadata": {},
   "outputs": [
    {
     "name": "stdout",
     "output_type": "stream",
     "text": [
      "\n",
      "\n",
      "APOGEE SUMMARY: m2\n",
      "No Matches :(\n"
     ]
    },
    {
     "data": {
      "image/png": "[encoded data removed]",
      "text/plain": [
       "<matplotlib.figure.Figure at 0x2b76a623bc88>"
      ]
     },
     "metadata": {},
     "output_type": "display_data"
    },
    {
     "name": "stdout",
     "output_type": "stream",
     "text": [
      "\n",
      "\n",
      "APOGEE SUMMARY: m13\n",
      "No Matches :(\n"
     ]
    },
    {
     "data": {
      "image/png": "[encoded data removed]",
      "text/plain": [
       "<matplotlib.figure.Figure at 0x2b76a623ca20>"
      ]
     },
     "metadata": {},
     "output_type": "display_data"
    },
    {
     "name": "stdout",
     "output_type": "stream",
     "text": [
      "\n",
      "\n",
      "APOGEE SUMMARY: m15\n",
      "2 Matches found\n",
      "Index: 210253\n",
      "Object: #008.0010337\n",
      "DEIMOS Star Coordinate\n",
      "RA: -37.505208 deg\n",
      "Dec: 12.291389 deg\n",
      "APOGEE Star Coordinate\n",
      "RA: -37.505210 deg\n",
      "Dec: 12.291350 deg\n",
      "Teff = 5663.6 K\n",
      "Logg = 4.30\n",
      "[Fe/H] = 0.33\n",
      "\n",
      "[Mg/H] = 0.23\n",
      "Index: 210111\n",
      "Object: #020.0010068\n",
      "DEIMOS Star Coordinate\n",
      "RA: -37.634292 deg\n",
      "Dec: 12.255278 deg\n",
      "APOGEE Star Coordinate\n",
      "RA: -37.634370 deg\n",
      "Dec: 12.255250 deg\n",
      "Teff = 5650.5 K\n",
      "Logg = 3.64\n",
      "[Fe/H] = -1.26\n",
      "\n",
      "[Mg/H] = -0.36\n"
     ]
    },
    {
     "data": {
      "image/png": "[encoded data removed]",
      "text/plain": [
       "<matplotlib.figure.Figure at 0x2b76a621d7b8>"
      ]
     },
     "metadata": {},
     "output_type": "display_data"
    },
    {
     "name": "stdout",
     "output_type": "stream",
     "text": [
      "\n",
      "\n",
      "APOGEE SUMMARY: m71\n",
      "1 Matches found\n",
      "Index: 197178\n",
      "Object: #006.0000191\n",
      "DEIMOS Star Coordinate\n",
      "RA: -61.620792 deg\n",
      "Dec: 18.559000 deg\n",
      "APOGEE Star Coordinate\n",
      "RA: -61.620860 deg\n",
      "Dec: 18.559000 deg\n",
      "Teff = 4295.2 K\n",
      "Logg = 2.30\n",
      "[Fe/H] = -0.06\n",
      "\n",
      "[Mg/H] = 0.06\n"
     ]
    },
    {
     "data": {
      "image/png": "[encoded data removed]",
      "text/plain": [
       "<matplotlib.figure.Figure at 0x2b766ac42400>"
      ]
     },
     "metadata": {},
     "output_type": "display_data"
    },
    {
     "name": "stdout",
     "output_type": "stream",
     "text": [
      "\n",
      "\n",
      "APOGEE SUMMARY: ngc2419\n",
      "No Matches :(\n"
     ]
    },
    {
     "data": {
      "image/png": "[encoded data removed]",
      "text/plain": [
       "<matplotlib.figure.Figure at 0x2b76a830dd30>"
      ]
     },
     "metadata": {},
     "output_type": "display_data"
    },
    {
     "name": "stdout",
     "output_type": "stream",
     "text": [
      "\n",
      "\n",
      "APOGEE SUMMARY: ngc7006\n",
      "No Matches :(\n"
     ]
    },
    {
     "data": {
      "image/png": "[encoded data removed]",
      "text/plain": [
       "<matplotlib.figure.Figure at 0x2b76a480a438>"
      ]
     },
     "metadata": {},
     "output_type": "display_data"
    },
    {
     "name": "stdout",
     "output_type": "stream",
     "text": [
      "\n",
      "\n",
      "APOGEE SUMMARY: pegdig\n",
      "No Matches :(\n"
     ]
    },
    {
     "data": {
      "image/png": "[encoded data removed]",
      "text/plain": [
       "<matplotlib.figure.Figure at 0x2b76a44cc358>"
      ]
     },
     "metadata": {},
     "output_type": "display_data"
    }
   ],
   "source": [
    "for target in targets:\n",
    "    # Restore Observed Spectra\n",
    "    obj, norm_spec, spectral_err, dv, Obs_RA_Dec = restore_observed_spectra(target, method)\n",
    "        \n",
    "    DEIMOS_ind = []\n",
    "    APOGEE_ind = []\n",
    "        \n",
    "    for i in range(len(Obs_RA_Dec)):\n",
    "        coord = Obs_RA_Dec[i]\n",
    "        if any(char.isalpha() for char in obj[i]):\n",
    "            if verbose:\n",
    "                print('Skipping Serendip')\n",
    "                print('')\n",
    "            continue\n",
    "        if verbose:\n",
    "            print('Object #%s' % obj[i][4:])\n",
    "            print('RA: %f' % coord.ra.deg)\n",
    "            print('Dec: %f' % coord.dec.deg)\n",
    "        try:\n",
    "            match_ind, match_sep = find_obj_in_sample(Obj_RA_Dec=coord,\n",
    "                                                     Sample_RA_Dec=APOGEE_RA_Dec,\n",
    "                                                     verbose=verbose)\n",
    "            APOGEE_ind.append(match_ind)\n",
    "            if verbose:\n",
    "                print('APOGEE ID: %i' % APOGEE_ID[match_ind])\n",
    "                print('APOGEE Quality: %s' % Quality[match_ind])\n",
    "                print('Separated by %.2e degrees' % match_sep)\n",
    "                print('')\n",
    "            DEIMOS_ind.append(i)\n",
    "        except ValueError:\n",
    "            if verbose:\n",
    "                print('')\n",
    "    \n",
    "    print('\\n\\nAPOGEE SUMMARY: %s' % target)\n",
    "    if len(APOGEE_ind)==0:\n",
    "        print('No Matches :(')\n",
    "    else:\n",
    "        print('%i Matches found' % len(APOGEE_ind))\n",
    "    for i in range(len(APOGEE_ind)):\n",
    "        print('Index: %i' % APOGEE_ind[i])\n",
    "        print('Object: #%s' % obj[DEIMOS_ind[i]])\n",
    "        print('DEIMOS Star Coordinate')\n",
    "        print('RA: %f deg' % Obs_RA_Dec[DEIMOS_ind[i]].ra.wrap_at(180 * u.deg).deg)\n",
    "        print('Dec: %f deg' % Obs_RA_Dec[DEIMOS_ind[i]].dec.wrap_at(180 * u.deg).deg)\n",
    "        print('APOGEE Star Coordinate')\n",
    "        print('RA: %f deg' % APOGEE_RA_Dec[APOGEE_ind[i]].ra.wrap_at(180 * u.deg).deg)\n",
    "        print('Dec: %f deg' % APOGEE_RA_Dec[APOGEE_ind[i]].dec.wrap_at(180 * u.deg).deg)\n",
    "        print('Teff = %s K' % APOGEE_Teff[APOGEE_ind[i]])\n",
    "        print('Logg = %s' % APOGEE_logg[APOGEE_ind[i]])\n",
    "        print('[Fe/H] = %s\\n' % APOGEE_FeH[APOGEE_ind[i]])\n",
    "        print('[Mg/H] = %s' % APOGEE_MgH[APOGEE_ind[i]])\n",
    "\n",
    "    fig = plt.figure(figsize=(10,8))\n",
    "    ax = fig.add_subplot(111)\n",
    "    \n",
    "    apogee_ra = APOGEE_RA_Dec.ra.wrap_at(180 * u.deg).deg\n",
    "    \n",
    "    obs_ra  = Obs_RA_Dec.ra.wrap_at(180 * u.deg).deg\n",
    "    min_ra, max_ra = [np.min(obs_ra),np.max(obs_ra)]\n",
    "    min_dec, max_dec = [np.min(Obs_RA_Dec.dec.deg), np.min(Obs_RA_Dec.dec.deg)]\n",
    "    \n",
    "    ax.scatter(obs_ra, Obs_RA_Dec.dec.deg, marker='o',c='lightblue', label='This Work')\n",
    "    ax.scatter(obs_ra[DEIMOS_ind], Obs_RA_Dec.dec.deg[DEIMOS_ind], marker='o',c='blue', label='Match')\n",
    "    ax.scatter(apogee_ra, APOGEE_RA_Dec.dec.deg, marker='.',c='r', label='APOGEE')\n",
    "    \n",
    "    plt.grid(True)\n",
    "    plt.xlim(min_ra - 0.0001, max_ra + 0.0001)\n",
    "    plt.ylim(min_dec - 0.0001, max_dec + 0.0001)\n",
    "    plt.xlabel('RA (Degrees)')\n",
    "    plt.ylabel('Dec (Degrees)')\n",
    "    plt.title('Matches with APOGEE')\n",
    "    plt.show()"
   ]
  },
  {
   "cell_type": "markdown",
   "metadata": {},
   "source": [
    "# Check Kirby 2008 GC's"
   ]
  },
  {
   "cell_type": "code",
   "execution_count": null,
   "metadata": {},
   "outputs": [],
   "source": [
    "for target in targets:\n",
    "    # Restore observed spectra\n",
    "    obj, norm_spec, spectral_err, dv, Obs_RA_Dec = restore_observed_spectra(target, method)\n",
    "    \n",
    "    DEIMOS_ind = []\n",
    "    kirby_ind = []\n",
    "        \n",
    "    for i in range(len(Obs_RA_Dec)):\n",
    "        coord = Obs_RA_Dec[i]\n",
    "        if any(char.isalpha() for char in obj[i]):\n",
    "            if verbose:\n",
    "                print('Skipping Serendip')\n",
    "                print('')\n",
    "            continue\n",
    "        if verbose:\n",
    "            print('Object #%s' % obj[i][4:])\n",
    "            print('RA: %f' % coord.ra.deg)\n",
    "            print('Dec: %f' % coord.dec.deg)\n",
    "        try:\n",
    "            match_ind, match_sep = find_obj_in_sample(Obj_RA_Dec=coord,\n",
    "                                                     Sample_RA_Dec=kirby_RA_Dec,\n",
    "                                                     verbose=verbose)\n",
    "            kirby_ind.append(match_ind)\n",
    "            if verbose:\n",
    "                print('Name: %i' % Name[match_ind])\n",
    "                print('Separated by %.2e degrees' % match_sep)\n",
    "                print('')\n",
    "            DEIMOS_ind.append(i)\n",
    "        except ValueError:\n",
    "            if verbose:\n",
    "                print('')\n",
    "    \n",
    "    print('\\n\\nKirby SUMMARY: %s' % target)\n",
    "    if len(kirby_ind)==0:\n",
    "        print('No Matches :(')\n",
    "    else:\n",
    "        print('%i Matches found' % len(kirby_ind))\n",
    "        for i in range(len(kirby_ind)):\n",
    "            print('Index: %i' % DEIMOS_ind[i])\n",
    "            print('Object: #%s' % obj[DEIMOS_ind[i]])\n",
    "            print('DEIMOS Star Coordinate')\n",
    "            print('RA: %f deg' % Obs_RA_Dec[DEIMOS_ind[i]].ra.wrap_at(180 * u.deg).deg)\n",
    "            print('Dec: %f deg' % Obs_RA_Dec[DEIMOS_ind[i]].dec.wrap_at(180 * u.deg).deg)\n",
    "            print('kirby 2008+ Star Coordinate')\n",
    "            print('RA: %f deg' % kirby_RA_Dec[kirby_ind[i]].ra.wrap_at(180 * u.deg).deg)\n",
    "            print('Dec: %f deg' % kirby_RA_Dec[kirby_ind[i]].dec.wrap_at(180 * u.deg).deg)\n",
    "            print('Teff = %s K' % kirby_Teff[kirby_ind[i]])\n",
    "            print('Logg = %s' % kirby_logg[kirby_ind[i]])\n",
    "            print('[Fe/H]_M = %s\\n' % kirby_FeH_M[kirby_ind[i]])\n",
    "            print('[alpha/H]_M = %s' % kirby_alphaFe_M[kirby_ind[i]])\n",
    "            print('[Fe/H]_H = %s\\n' % kirby_FeH_H[kirby_ind[i]])\n",
    "            print('[alpha/H]_H = %s' % kirby_alphaFe_H[kirby_ind[i]])"
   ]
  },
  {
   "cell_type": "code",
   "execution_count": 48,
   "metadata": {},
   "outputs": [],
   "source": [
    "fname = D_PayneDir + 'other_data/standards/Kirby_2010_standards.txt'\n",
    "with open(fname) as f:\n",
    "    temp = f.readlines()\n",
    "temp = temp[49:]\n",
    "temp = [x.strip() for x in temp]\n",
    "f.close()\n",
    "\n",
    "System = np.array([x[:15].replace(\" \",\"\") for x in temp])\n",
    "Name = np.array([x[15:29].replace(\" \",\"\") for x in temp])\n",
    "Ref = np.array([x[29:55].replace(\" \",\"\") for x in temp])\n",
    "RA = [x[55:66].strip().replace(\" \",\":\") for x in temp]\n",
    "Dec = [x[66:78].strip().replace(\" \",\":\") for x in temp]\n",
    "kirby_RA_Dec = SkyCoord(RA, Dec, unit=(u.hourangle,u.deg))\n",
    "\n",
    "TeffH = np.array([x[78:83].strip().replace(\" \",\"\") for x in temp],dtype=float)\n",
    "loggH = np.array([x[83:88].strip().replace(\" \",\"\") for x in temp],dtype=float)\n",
    "Fe_HH = np.array([x[93:99].strip().replace(\" \",\"\") for x in temp],dtype=float)\n",
    "Mg_FeH_temp = [x[104:110].strip().replace(\" \",\"\") for x in temp]\n",
    "Mg_FeH = np.array(['100' if x=='' else x for x in Mg_FeH_temp],dtype=float)\n",
    "Mg_FeH[Mg_FeH == 100] = np.nan\n",
    "Si_FeH_temp = [x[115:121].strip().replace(\" \",\"\") for x in temp]\n",
    "Si_FeH = np.array(['100' if x=='' else x for x in Si_FeH_temp],dtype=float)\n",
    "Si_FeH[Si_FeH == 100] = np.nan\n",
    "Ca_FeH_temp = [x[126:132].strip().replace(\" \",\"\") for x in temp]\n",
    "Ca_FeH = np.array(['100' if x=='' else x for x in Ca_FeH_temp],dtype=float)\n",
    "Ca_FeH[Ca_FeH == 100] = np.nan\n",
    "Ti_FeH_temp = [x[137:143].strip().replace(\" \",\"\") for x in temp]\n",
    "Ti_FeH = np.array(['100' if x=='' else x for x in Ti_FeH_temp],dtype=float)\n",
    "Ti_FeH[Ti_FeH == 100] = np.nan\n",
    "\n",
    "TeffM = np.array([x[148:153].strip().replace(\" \",\"\") for x in temp],dtype=float)\n",
    "loggM = np.array([x[153:158].strip().replace(\" \",\"\") for x in temp],dtype=float)\n",
    "Fe_HM = np.array([x[163:169].strip().replace(\" \",\"\") for x in temp],dtype=float)\n",
    "Mg_FeM_temp = [x[174:180].strip().replace(\" \",\"\") for x in temp]\n",
    "Mg_FeM = np.array(['100' if x=='' else x for x in Mg_FeM_temp],dtype=float)\n",
    "Mg_FeM[Mg_FeM == 100] = np.nan\n",
    "Si_FeM_temp = [x[185:191].strip().replace(\" \",\"\") for x in temp]\n",
    "Si_FeM = np.array(['100' if x=='' else x for x in Si_FeM_temp],dtype=float)\n",
    "Si_FeM[Si_FeM == 100] = np.nan\n",
    "Ca_FeM_temp = [x[196:202].strip().replace(\" \",\"\") for x in temp]\n",
    "Ca_FeM = np.array(['100' if x=='' else x for x in Ca_FeM_temp],dtype=float)\n",
    "Ca_FeM[Ca_FeM == 100] = np.nan\n",
    "Ti_FeM_temp = [x[207:213].strip().replace(\" \",\"\") for x in temp]\n",
    "Ti_FeM = np.array(['100' if x=='' else x for x in Ti_FeM_temp],dtype=float)\n",
    "Ti_FeM[Ti_FeM == 100] = np.nan"
   ]
  },
  {
   "cell_type": "code",
   "execution_count": 43,
   "metadata": {},
   "outputs": [
    {
     "data": {
      "text/plain": [
       "['-24 31 43.3',\n",
       " '+38 53 35.1',\n",
       " '+38 53 35.1',\n",
       " '+02 03 32.8',\n",
       " '+02 02 27.7',\n",
       " '+02 07 01.1',\n",
       " '+02 04 52.5',\n",
       " '+02 05 13.4',\n",
       " '+02 04 31.0',\n",
       " '+02 03 15.8',\n",
       " '+02 05 48.0',\n",
       " '+36 26 16.1',\n",
       " '+36 25 22.8',\n",
       " '+36 28 14.1',\n",
       " '+36 25 30.9',\n",
       " '+36 25 45.1',\n",
       " '+36 27 04.0',\n",
       " '+36 25 04.7',\n",
       " '+36 27 59.6',\n",
       " '+36 26 51.8',\n",
       " '+36 26 56.3',\n",
       " '+36 25 57.6',\n",
       " '+36 27 48.8',\n",
       " '+43 06 15.6',\n",
       " '+18 46 04.8',\n",
       " '+18 46 47.0',\n",
       " '+18 46 55.5',\n",
       " '+18 45 43.2',\n",
       " '+18 47 00.0',\n",
       " '+18 44 52.9',\n",
       " '+12 07 30.2',\n",
       " '+12 08 04.8',\n",
       " '+12 11 30.0',\n",
       " '+12 10 20.1',\n",
       " '+12 13 22.5',\n",
       " '+12 12 42.2',\n",
       " '+12 12 33.7',\n",
       " '+12 12 34.1',\n",
       " '+12 09 11.2',\n",
       " '+12 10 50.8',\n",
       " '+12 07 36.0',\n",
       " '+12 11 21.5',\n",
       " '+12 11 21.9',\n",
       " '+12 10 44.2',\n",
       " '+12 13 28.9',\n",
       " '+12 08 55.1',\n",
       " '-15 36 20.6',\n",
       " '-15 37 42.8',\n",
       " '-15 37 10.1',\n",
       " '-15 36 32.9',\n",
       " '+14 24 37.0',\n",
       " '+53 33 39.4',\n",
       " '+36 22 52.7',\n",
       " '+17 48 33.0',\n",
       " '+09 41 09.9',\n",
       " '+18 01 18.8',\n",
       " '+06 17 04.9',\n",
       " '+06 48 34.9',\n",
       " '+05 17 44.3',\n",
       " '+54 37 03.0',\n",
       " '+09 06 16.3',\n",
       " '+60 57 42.1',\n",
       " '+08 14 46.0',\n",
       " '+59 13 05.9',\n",
       " '+23 44 11.6',\n",
       " '+03 46 44.7',\n",
       " '+17 29 27.1',\n",
       " '+18 12 11.1',\n",
       " '+16 33 58.1',\n",
       " '+18 33 29.2',\n",
       " '+02 39 58.0',\n",
       " '-33 41 23.2',\n",
       " '-33 46 39.8',\n",
       " '-33 41 08.4',\n",
       " '-33 43 01.3',\n",
       " '-33 41 15.9',\n",
       " '-33 42 37.3',\n",
       " '-33 45 13.6',\n",
       " '-33 42 12.4',\n",
       " '-33 42 17.5',\n",
       " '-33 41 03.1',\n",
       " '-34 28 36.5',\n",
       " '-34 37 48.7',\n",
       " '-34 34 01.2',\n",
       " '-34 26 35.9',\n",
       " '-34 29 20.1',\n",
       " '-34 32 06.2',\n",
       " '-34 31 49.8',\n",
       " '-34 27 05.8',\n",
       " '-34 28 50.6',\n",
       " '-34 35 59.3',\n",
       " '-34 26 47.4',\n",
       " '-34 29 54.8',\n",
       " '-34 31 21.0',\n",
       " '-34 32 05.3',\n",
       " '-34 27 11.6',\n",
       " '-34 32 42.7',\n",
       " '-34 29 59.1',\n",
       " '-34 29 34.5',\n",
       " '-34 26 20.3',\n",
       " '-34 26 57.1',\n",
       " '+63 08 21.9',\n",
       " '+63 05 01.3',\n",
       " '+63 05 54.8',\n",
       " '+12 20 20.8',\n",
       " '-01 45 47.9',\n",
       " '-01 45 27.0',\n",
       " '-01 39 13.4',\n",
       " '-01 43 01.4',\n",
       " '-01 38 53.0',\n",
       " '-00 30 27.8',\n",
       " '+23 57 02.5',\n",
       " '+23 56 09.8',\n",
       " '+23 56 11.8',\n",
       " '+67 10 07.7',\n",
       " '+67 10 34.3',\n",
       " '+67 15 16.0',\n",
       " '+67 16 19.8',\n",
       " '+67 12 52.1',\n",
       " '+67 10 37.6',\n",
       " '+67 24 35.8',\n",
       " '+12 47 20.3',\n",
       " '+57 58 46.6',\n",
       " '+57 51 24.9',\n",
       " '+57 52 19.2',\n",
       " '+57 57 37.0',\n",
       " '+57 57 52.8',\n",
       " '+57 51 59.3',\n",
       " '+57 52 56.1',\n",
       " '+57 53 32.0',\n",
       " '+57 57 12.7',\n",
       " '+57 56 04.2']"
      ]
     },
     "execution_count": 43,
     "metadata": {},
     "output_type": "execute_result"
    }
   ],
   "source": [
    "[x[66:78].strip() for x in temp]"
   ]
  },
  {
   "cell_type": "code",
   "execution_count": 62,
   "metadata": {},
   "outputs": [
    {
     "data": {
      "image/png": "[encoded data removed]",
      "text/plain": [
       "<matplotlib.figure.Figure at 0x2b9f96574b70>"
      ]
     },
     "metadata": {},
     "output_type": "display_data"
    }
   ],
   "source": [
    "fig = plt.figure(figsize=(10,8))\n",
    "ax = fig.add_subplot(111)\n",
    "\n",
    "kirby_ra = kirby_RA_Dec.ra.wrap_at(180 * u.deg).deg\n",
    "\n",
    "obs_ra  = Obs_RA_Dec.ra.wrap_at(180 * u.deg).deg\n",
    "\n",
    "ax.scatter(obs_ra, Obs_RA_Dec.dec.deg, marker='o',c='lightblue', label='This Work')\n",
    "#ax.scatter(obs_ra[matches], Obs_RA_Dec.dec.deg[matches], marker='o',c='blue', label='Match')\n",
    "ax.scatter(kirby_ra, kirby_RA_Dec.dec.deg, marker='.',c='r', label='APOGEE')\n",
    "\n",
    "plt.grid(True)\n",
    "#plt.xlim(-37.3,-37.7)\n",
    "#plt.ylim(12.225,12.375)\n",
    "plt.xlim(-37.7,-37.3)\n",
    "plt.ylim(12.1,12.4)\n",
    "plt.xlabel('RA (Degrees)')\n",
    "plt.ylabel('Dec (Degrees)')\n",
    "plt.title('Matches with APOGEE')\n",
    "plt.show()"
   ]
  },
  {
   "cell_type": "code",
   "execution_count": 63,
   "metadata": {},
   "outputs": [
    {
     "data": {
      "text/plain": [
       "<SkyCoord (ICRS): (ra, dec) in deg\n",
       "    [(322.47375, 12.17225)]>"
      ]
     },
     "execution_count": 63,
     "metadata": {},
     "output_type": "execute_result"
    }
   ],
   "source": [
    "kirby_RA_Dec[Name=='K288']"
   ]
  },
  {
   "cell_type": "code",
   "execution_count": null,
   "metadata": {},
   "outputs": [],
   "source": [
    "21 29 53.7 +12 10 20.1"
   ]
  },
  {
   "cell_type": "code",
   "execution_count": 64,
   "metadata": {},
   "outputs": [
    {
     "data": {
      "text/plain": [
       "12.17225"
      ]
     },
     "execution_count": 64,
     "metadata": {},
     "output_type": "execute_result"
    }
   ],
   "source": [
    "(20.1/60 + 10)/60 + 12"
   ]
  },
  {
   "cell_type": "code",
   "execution_count": 66,
   "metadata": {},
   "outputs": [
    {
     "data": {
      "text/plain": [
       "322.47375"
      ]
     },
     "execution_count": 66,
     "metadata": {},
     "output_type": "execute_result"
    }
   ],
   "source": [
    "((53.7 / 60 + 29) / 60 + 21) / 24 * 360"
   ]
  },
  {
   "cell_type": "code",
   "execution_count": null,
   "metadata": {},
   "outputs": [],
   "source": []
  }
 ],
 "metadata": {
  "kernelspec": {
   "display_name": "Python 3 for DEIMOS",
   "language": "python",
   "name": "python3-deimos"
  },
  "language_info": {
   "codemirror_mode": {
    "name": "ipython",
    "version": 3
   },
   "file_extension": ".py",
   "mimetype": "text/x-python",
   "name": "python",
   "nbconvert_exporter": "python",
   "pygments_lexer": "ipython3",
   "version": "3.6.4"
  }
 },
 "nbformat": 4,
 "nbformat_minor": 2
}
