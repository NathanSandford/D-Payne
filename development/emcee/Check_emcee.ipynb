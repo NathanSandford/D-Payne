{
 "cells": [
  {
   "cell_type": "code",
   "execution_count": 3,
   "metadata": {},
   "outputs": [],
   "source": [
    "import numpy as np\n",
    "from astropy import units as u\n",
    "from astropy.coordinates import SkyCoord\n",
    "import emcee\n",
    "\n",
    "import utils\n",
    "import model_spectra as NN\n",
    "import fitting\n",
    "\n",
    "import ipywidgets as widgets\n",
    "from ipywidgets import interact\n",
    "import matplotlib.pyplot as plt\n",
    "import corner\n",
    "\n",
    "np.set_printoptions(formatter={'float': lambda x: \"{0:0.2f}\".format(x)})"
   ]
  },
  {
   "cell_type": "markdown",
   "metadata": {},
   "source": [
    "# Check Autocorrelation Time of MCMC chain for DEIMOS"
   ]
  },
  {
   "cell_type": "code",
   "execution_count": 88,
   "metadata": {},
   "outputs": [
    {
     "data": {
      "image/png": "[encoded data removed]",
      "text/plain": [
       "<matplotlib.figure.Figure at 0x2b6044c82e48>"
      ]
     },
     "metadata": {},
     "output_type": "display_data"
    }
   ],
   "source": [
    "autocorr = np.load('/global/scratch/nathan_sandford/emcee/autocorr.npy')\n",
    "chain = emcee.backends.HDFBackend('/global/scratch/nathan_sandford/emcee/chain.h5')\n",
    "\n",
    "n = np.arange(1, len(autocorr) + 1) * 100\n",
    "y = autocorr\n",
    "plt.plot(n, n / 100.0, \"--k\")\n",
    "plt.plot(n, y)\n",
    "plt.xlim(0, n.max())\n",
    "plt.ylim(0, y.max() + 0.1*(y.max() - y.min()))\n",
    "plt.xlabel(\"number of steps\")\n",
    "plt.ylabel(r\"mean $\\hat{\\tau}$\");"
   ]
  },
  {
   "cell_type": "code",
   "execution_count": 95,
   "metadata": {},
   "outputs": [
    {
     "data": {
      "text/plain": [
       "array([[-0.19, 0.09, 0.16, ..., 5646.86, 4.27, -0.05],\n",
       "       [-0.20, 0.09, 0.17, ..., 5646.85, 4.27, -0.04],\n",
       "       [-0.20, 0.11, 0.17, ..., 5646.84, 4.28, -0.03],\n",
       "       ...,\n",
       "       [-0.19, 0.09, 0.17, ..., 5646.85, 4.28, -0.05],\n",
       "       [-0.20, 0.10, 0.17, ..., 5646.86, 4.28, -0.04],\n",
       "       [-0.18, 0.11, 0.15, ..., 5646.87, 4.27, -0.06]])"
      ]
     },
     "execution_count": 95,
     "metadata": {},
     "output_type": "execute_result"
    }
   ],
   "source": [
    "chain.get_chain()[0]"
   ]
  },
  {
   "cell_type": "markdown",
   "metadata": {},
   "source": [
    "# Restore Neural Network"
   ]
  },
  {
   "cell_type": "code",
   "execution_count": 2,
   "metadata": {},
   "outputs": [],
   "source": [
    "# read in the standard wavelength grid onto which we interpolate spectra.\n",
    "wavelength = utils.load_wavelength_array()\n",
    "\n",
    "# read in all individual neural networks we'll need. \n",
    "NN_coeffs = utils.read_in_neural_network(name='norm_spectra_approx')"
   ]
  },
  {
   "cell_type": "markdown",
   "metadata": {},
   "source": [
    "# Restore Processed Spectra"
   ]
  },
  {
   "cell_type": "code",
   "execution_count": 3,
   "metadata": {},
   "outputs": [],
   "source": [
    "# Restore Observed spectra\n",
    "D_PayneDir = utils.D_PayneDir\n",
    "SpectraDir = D_PayneDir + 'spectra/obs_spectra/'\n",
    "SpectraFile = 'm15_Horne.npz'\n",
    "temp = np.load(SpectraDir + SpectraFile)\n",
    "obj = temp['obj']\n",
    "norm_spectra = temp['norm_spec']\n",
    "full_spectra = temp['spec']\n",
    "spectral_err = temp['spec_err']\n",
    "dv = temp['dv']\n",
    "RA_Dec = SkyCoord(temp['RA_Dec'])\n",
    "temp.close()"
   ]
  },
  {
   "cell_type": "markdown",
   "metadata": {},
   "source": [
    "### Spectra Selection"
   ]
  },
  {
   "cell_type": "code",
   "execution_count": 4,
   "metadata": {},
   "outputs": [],
   "source": [
    "# Standard Stars\n",
    "spec_ind = 8\n",
    "\n",
    "full_spec = full_spectra[spec_ind]\n",
    "norm_spec = norm_spectra[spec_ind]\n",
    "spec_err = spectral_err[spec_ind]"
   ]
  },
  {
   "cell_type": "markdown",
   "metadata": {},
   "source": [
    "### Apply Mask"
   ]
  },
  {
   "cell_type": "code",
   "execution_count": 5,
   "metadata": {},
   "outputs": [],
   "source": [
    "# kirby_2008_stellar = utils.get_spectral_mask_dict(name='kirby_2008_stellar')\n",
    "mask = utils.generate_mask_from_file(name='008.0010337')\n",
    "spec_err[mask] = 1e16\n",
    "\n",
    "masked_wavelength = wavelength[mask]"
   ]
  },
  {
   "cell_type": "markdown",
   "metadata": {},
   "source": [
    "### Real Labels"
   ]
  },
  {
   "cell_type": "code",
   "execution_count": 6,
   "metadata": {},
   "outputs": [],
   "source": [
    "# Standard Labels\n",
    "matches = [8, 26, 7, 40, 11]\n",
    "feh = [0.33, -1.26, -0.06, -1.67, -1.6]\n",
    "alpha = [0.23, -0.36, 0.06, 0.18, 0.47]\n",
    "Teff = [5663.6, 5650.5, 4295.2, 5247., 4285.]\n",
    "logg = [4.3, 3.64, 2.30, 3.14, 0.83]\n",
    "dv = [0.0, 0.0, 0.0, 0.0, 0.0]\n",
    "target = ['m15', 'm15', 'm71','m13', 'ngc7006']\n",
    "standard = ['APOGEE', 'APOGEE', 'APOGEE', 'Kirby+ 2008', 'Kirby+ 2008']\n",
    "\n",
    "# Selectr Standard\n",
    "i = 0\n",
    "j = matches[i]\n",
    "\n",
    "if standard[i] == 'APOGEE':\n",
    "    alphafe = alpha[i] - feh[i]\n",
    "    real_labels = np.array([alphafe, alpha[i], alpha[i], alpha[i], alpha[i], alpha[i], alpha[i],\n",
    "                            feh[i], Teff[i], logg[i], dv[i]])\n",
    "elif standard[i] == 'Kirby+ 2008':\n",
    "    alphafe = alpha[i]\n",
    "    alpha[i] = alphafe + feh[i]\n",
    "    real_labels = np.array([alphafe, alpha[i], alpha[i], alpha[i], alpha[i], alpha[i], alpha[i],\n",
    "                            feh[i], Teff[i], logg[i], dv[i]])"
   ]
  },
  {
   "cell_type": "markdown",
   "metadata": {},
   "source": [
    "# Fit with Optimization"
   ]
  },
  {
   "cell_type": "code",
   "execution_count": 8,
   "metadata": {},
   "outputs": [
    {
     "data": {
      "application/vnd.jupyter.widget-view+json": {
       "model_id": "4fb2130a15ed43e3b484f7dd1f5a7fa2",
       "version_major": 2,
       "version_minor": 0
      },
      "text/html": [
       "<p>Failed to display Jupyter Widget of type <code>interactive</code>.</p>\n",
       "<p>\n",
       "  If you're reading this message in the Jupyter Notebook or JupyterLab Notebook, it may mean\n",
       "  that the widgets JavaScript is still loading. If this message persists, it\n",
       "  likely means that the widgets JavaScript library is either not installed or\n",
       "  not enabled. See the <a href=\"https://ipywidgets.readthedocs.io/en/stable/user_install.html\">Jupyter\n",
       "  Widgets Documentation</a> for setup instructions.\n",
       "</p>\n",
       "<p>\n",
       "  If you're reading this message in another frontend (for example, a static\n",
       "  rendering on GitHub or <a href=\"https://nbviewer.jupyter.org/\">NBViewer</a>),\n",
       "  it may mean that your frontend doesn't currently support widgets.\n",
       "</p>\n"
      ],
      "text/plain": [
       "interactive(children=(IntRangeSlider(value=(8400, 8700), description='xlim', max=9500, min=6250, step=50), Output()), _dom_classes=('widget-interact',))"
      ]
     },
     "metadata": {},
     "output_type": "display_data"
    },
    {
     "name": "stdout",
     "output_type": "stream",
     "text": [
      "Best Fit Labels:\n",
      "[-0.19 0.12 0.18 0.20 0.24 0.31 0.20 0.42 5653.32 4.27 0.39]\n",
      "Real Labels:\n",
      "[-0.10 0.23 0.23 0.23 0.23 0.23 0.23 0.33 5663.60 4.30 0.00]\n",
      "Log Likelihood:\n",
      "12.934979799918064\n"
     ]
    }
   ],
   "source": [
    "#p0 = preal # initialize with real labels\n",
    "p0 = [0, 0, 0, 0, 0, 0, 0, 0, 5000, 4, 0]\n",
    "popt, pcov, model_spec \\\n",
    "    = fitting.fit_normalized_spectrum_single_star_model(norm_spec = norm_spec,\n",
    "                                                        spec_err = spec_err,\n",
    "                                                        NN_coeffs = NN_coeffs,\n",
    "                                                        p0 = p0, num_p0 = 10)\n",
    "    \n",
    "def plot3(xlim):\n",
    "    # zoom in on a small region of the spectrum so we can see what's going on.\n",
    "    lambda_min = xlim[0]\n",
    "    lambda_max = xlim[1] \n",
    "    m = (wavelength < lambda_max) & (wavelength > lambda_min)\n",
    "    \n",
    "    fig, (ax1, ax2, ax3, ax4) = plt.subplots(4, sharex=True, figsize=(14, 10))\n",
    "    \n",
    "    ax1.plot(wavelength[m], norm_spec[m], 'k', lw=0.5, label = r'$\\mathrm{Data\\ Spectra}$')\n",
    "    ax1.plot(wavelength[m], model_spec[m], 'r--', lw=0.5, label = r'$\\mathrm{Best-Fit\\ Model}$')\n",
    "    ax1.vlines(masked_wavelength, 0.70, 1.10, color='r', alpha=0.2)\n",
    "    ax1.set_xlim(lambda_min, lambda_max)\n",
    "    ax1.set_ylim(0.70,1.10)\n",
    "    ax1.set_ylabel(r'$\\mathrm{Normalized\\ Flux}$')\n",
    "    ax1.legend(loc = 'best', frameon = False, fontsize = 12)\n",
    "    \n",
    "    ax2.plot(wavelength[m], norm_spec[m]-model_spec[m], 'k', lw=0.5)\n",
    "    ax2.vlines(masked_wavelength, -0.15, 0.15, color='r', alpha=0.2)\n",
    "    ax2.hlines(0, lambda_min, lambda_max, linestyles='-')\n",
    "    ax2.hlines(0.05, lambda_min, lambda_max, linestyles=':', color='b')\n",
    "    ax2.hlines(-0.05, lambda_min, lambda_max, linestyles=':', color='b')\n",
    "    ax2.set_ylim(-0.15,0.15)\n",
    "    ax2.set_xlabel(r'$\\mathrm{Wavelength\\ [\\AA]}$')\n",
    "    ax2.set_ylabel(r'$\\mathrm{Residuals}$')\n",
    "    \n",
    "    chi_spec = (norm_spec[m]-model_spec[m])**2/spec_err[m]\n",
    "    ax3.plot(wavelength[m], chi_spec, 'k', lw=0.5)\n",
    "    ax3.vlines(masked_wavelength, np.min(chi_spec)-1, np.min(chi_spec)+1, color='r', alpha=0.2)\n",
    "    ax3.set_ylim(np.min(chi_spec),np.max(chi_spec))\n",
    "    ax3.set_xlabel(r'$\\mathrm{Wavelength\\ [\\AA]}$')\n",
    "    ax3.set_ylabel(r'$\\chi^2$')\n",
    "    \n",
    "    SNR = full_spec[m]/np.sqrt(spec_err[m])\n",
    "    ax4.plot(wavelength[m], SNR, 'k', lw=0.5)\n",
    "    ax4.vlines(masked_wavelength, np.min(SNR)-1, np.min(SNR)+1, color='r', alpha=0.2)\n",
    "    ax4.set_ylim(np.min(SNR),np.max(SNR))\n",
    "    ax4.set_xlabel(r'$\\mathrm{Wavelength\\ [\\AA]}$')\n",
    "    ax4.set_ylabel(r'$\\mathrm{SNR}$')\n",
    "    \n",
    "    plt.suptitle('Obj: %s\\n\\\n",
    "                 RA: %.5f Dec: %.5f' % (obj[spec_ind], RA_Dec[spec_ind].ra.deg, RA_Dec[spec_ind].dec.deg))\n",
    "    \n",
    "    fig.subplots_adjust(hspace=0)\n",
    "    plt.setp([a.get_xticklabels() for a in fig.axes[:-1]], visible=False)\n",
    "    plt.show()\n",
    "interact(plot3, xlim=widgets.IntRangeSlider(min=6250,max=9500,step=50,value=[8400,8700]))\n",
    "\n",
    "print('Best Fit Labels:')\n",
    "print(popt)\n",
    "print('Real Labels:')\n",
    "print(preal)"
   ]
  },
  {
   "cell_type": "markdown",
   "metadata": {},
   "source": [
    "# Define Likelihood Function"
   ]
  },
  {
   "cell_type": "code",
   "execution_count": 8,
   "metadata": {},
   "outputs": [],
   "source": [
    "def lnlike(labels, data_spec, data_err):\n",
    "    model_spec = NN.get_spectrum_from_neural_net(labels=labels, NN_coeffs=NN_coeffs)\n",
    "    inv_sigma2 = 1.0/data_err\n",
    "    lnchi2 = -0.5 * (np.sum((data_spec - model_spec)**2 * inv_sigma2))\n",
    "    return(lnchi2)\n",
    "\n",
    "\n",
    "def lnprior(labels):\n",
    "    abundances = labels[:-3]\n",
    "    Teff = labels[-3]\n",
    "    logg = labels[-2]\n",
    "    dv = labels[-1]\n",
    "    if np.any(abundances < -10) or np.any(abundances > 10.0):\n",
    "        return(-np.inf)\n",
    "    elif (Teff < 3000 or Teff > 10000):\n",
    "        return(-np.inf)\n",
    "    elif (logg < 0.01 or logg > 20):\n",
    "        return(-np.inf)\n",
    "    elif (dv < -50 or dv > 50):\n",
    "        return(-np.inf)\n",
    "    else:\n",
    "        return(1)\n",
    "\n",
    "\n",
    "def lnprob(labels, data_spec, data_err):\n",
    "    lp = lnprior(labels)\n",
    "    if not np.isfinite(lp):\n",
    "        return(-np.inf)\n",
    "    else:\n",
    "        return(lp + lnlike(labels, data_spec, data_err))"
   ]
  }
 ],
 "metadata": {
  "kernelspec": {
   "display_name": "Python 3 for DEIMOS",
   "language": "python",
   "name": "python3-deimos"
  },
  "language_info": {
   "codemirror_mode": {
    "name": "ipython",
    "version": 3
   },
   "file_extension": ".py",
   "mimetype": "text/x-python",
   "name": "python",
   "nbconvert_exporter": "python",
   "pygments_lexer": "ipython3",
   "version": "3.6.4"
  }
 },
 "nbformat": 4,
 "nbformat_minor": 2
}
