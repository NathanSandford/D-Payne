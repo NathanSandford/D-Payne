{
 "cells": [
  {
   "cell_type": "code",
   "execution_count": 1,
   "metadata": {},
   "outputs": [],
   "source": [
    "import numpy as np\n",
    "from astropy import units as u\n",
    "from astropy.coordinates import SkyCoord\n",
    "\n",
    "import utils\n",
    "import model_spectra as NN\n",
    "import fitting\n",
    "\n",
    "import matplotlib.pyplot as plt\n",
    "import ipywidgets as widgets\n",
    "from ipywidgets import interact\n",
    "np.set_printoptions(formatter={'float': lambda x: \"{0:0.2f}\".format(x)})"
   ]
  },
  {
   "cell_type": "code",
   "execution_count": 2,
   "metadata": {},
   "outputs": [
    {
     "data": {
      "application/vnd.jupyter.widget-view+json": {
       "model_id": "232d63b963764c1ea0e91c5c2d159c7a",
       "version_major": 2,
       "version_minor": 0
      },
      "text/html": [
       "<p>Failed to display Jupyter Widget of type <code>interactive</code>.</p>\n",
       "<p>\n",
       "  If you're reading this message in the Jupyter Notebook or JupyterLab Notebook, it may mean\n",
       "  that the widgets JavaScript is still loading. If this message persists, it\n",
       "  likely means that the widgets JavaScript library is either not installed or\n",
       "  not enabled. See the <a href=\"https://ipywidgets.readthedocs.io/en/stable/user_install.html\">Jupyter\n",
       "  Widgets Documentation</a> for setup instructions.\n",
       "</p>\n",
       "<p>\n",
       "  If you're reading this message in another frontend (for example, a static\n",
       "  rendering on GitHub or <a href=\"https://nbviewer.jupyter.org/\">NBViewer</a>),\n",
       "  it may mean that your frontend doesn't currently support widgets.\n",
       "</p>\n"
      ],
      "text/plain": [
       "interactive(children=(IntRangeSlider(value=(8400, 8700), description='lambda_bounds', max=9500, min=6250, step=50), Output()), _dom_classes=('widget-interact',))"
      ]
     },
     "metadata": {},
     "output_type": "display_data"
    },
    {
     "name": "stdout",
     "output_type": "stream",
     "text": [
      "Best Fit Labels:\n",
      "[-0.11 0.21 0.22 0.22 0.19 0.24 0.26 0.35 5672.14 4.30 -0.00]\n",
      "True Labels:\n",
      "[-0.10 0.23 0.23 0.23 0.23 0.23 0.23 0.33 5663.60 4.30 0.00]\n"
     ]
    }
   ],
   "source": [
    "# read in the standard wavelength grid onto which we interpolate spectra.\n",
    "wavelength = utils.load_wavelength_array()\n",
    "\n",
    "# read in all individual neural networks we'll need. \n",
    "NN_coeffs = utils.read_in_neural_network(name='norm_spectra_approx')\n",
    "\n",
    "# Generate a spectrum from \"standard\" labels and NN\n",
    "feh = 0.33\n",
    "alpha = 0.23\n",
    "alphafe = alpha - feh\n",
    "Teff = 5663.6\n",
    "logg = 4.3\n",
    "dv = 0.0\n",
    "real_labels = np.array([alphafe, alpha, alpha, alpha, alpha, alpha, alpha,\n",
    "                        feh, Teff, logg, dv])\n",
    "real_spec = NN.get_spectrum_from_neural_net(labels=real_labels, NN_coeffs=NN_coeffs)\n",
    "data_spec = real_spec + 0.01 * np.random.randn(len(real_spec))\n",
    "spec_err = 0.01 * np.ones(len(wavelength))\n",
    "\n",
    "# Apply Mask\n",
    "kirby_2008_stellar = utils.get_spectral_mask_dict(name='kirby_2008_stellar')\n",
    "mask = utils.generate_mask_from_dict(**kirby_2008_stellar)\n",
    "spec_err[mask] = 1e16\n",
    "\n",
    "# Fit spectrum\n",
    "popt, pcov, model_spec \\\n",
    "    = fitting.fit_normalized_spectrum_single_star_model(norm_spec = data_spec,\n",
    "                                                        spec_err = spec_err,\n",
    "                                                        NN_coeffs = NN_coeffs,\n",
    "                                                        p0 = None, num_p0 = 1)\n",
    "\n",
    "def plot(lambda_bounds):\n",
    "    # zoom in on a small region of the spectrum so we can see what's going on.\n",
    "    lambda_min = lambda_bounds[0]\n",
    "    lambda_max = lambda_bounds[1]\n",
    "    m = (wavelength < lambda_max) & (wavelength > lambda_min)\n",
    "    \n",
    "    fig, (ax1, ax2) = plt.subplots(2, sharex=True, figsize=(14, 4))\n",
    "    \n",
    "    ax1.plot(wavelength[m], data_spec[m], 'k', lw=0.5, label = r'$\\mathrm{Data\\ Spectra}$')\n",
    "    ax1.plot(wavelength[m], model_spec[m], 'r--', lw=0.75, label = r'$\\mathrm{Best-Fit\\ Model}$')\n",
    "    ax1.set_xlim(lambda_min, lambda_max)\n",
    "    ax1.set_ylim(0.70,1.10)\n",
    "    ax1.set_ylabel(r'$\\mathrm{Normalized\\ Flux}$')\n",
    "    ax1.legend(loc = 'best', frameon = False, fontsize = 12)\n",
    "    \n",
    "    ax2.plot(wavelength[m], data_spec[m]-model_spec[m], 'k', lw=0.5)\n",
    "    ax2.hlines(0, lambda_min, lambda_max, linestyles='-.')\n",
    "    ax2.set_ylim(-0.15,0.15)\n",
    "    ax2.set_xlabel(r'$\\mathrm{Wavelength\\ [\\AA]}$')\n",
    "    ax2.set_ylabel(r'$\\mathrm{Residuals}$')\n",
    "    \n",
    "    fig.subplots_adjust(hspace=0)\n",
    "    plt.setp([a.get_xticklabels() for a in fig.axes[:-1]], visible=False)\n",
    "    plt.show()\n",
    "interact(plot, lambda_bounds=widgets.IntRangeSlider(min=6250,max=9500,step=50,value=[8400,8700]))\n",
    "\n",
    "print('Best Fit Labels:')\n",
    "print(popt)\n",
    "\n",
    "print('True Labels:')\n",
    "print(real_labels)"
   ]
  },
  {
   "cell_type": "code",
   "execution_count": 6,
   "metadata": {
    "scrolled": false
   },
   "outputs": [
    {
     "data": {
      "application/vnd.jupyter.widget-view+json": {
       "model_id": "e62e5a346a614813a205ce5f6176d13b",
       "version_major": 2,
       "version_minor": 0
      },
      "text/html": [
       "<p>Failed to display Jupyter Widget of type <code>interactive</code>.</p>\n",
       "<p>\n",
       "  If you're reading this message in the Jupyter Notebook or JupyterLab Notebook, it may mean\n",
       "  that the widgets JavaScript is still loading. If this message persists, it\n",
       "  likely means that the widgets JavaScript library is either not installed or\n",
       "  not enabled. See the <a href=\"https://ipywidgets.readthedocs.io/en/stable/user_install.html\">Jupyter\n",
       "  Widgets Documentation</a> for setup instructions.\n",
       "</p>\n",
       "<p>\n",
       "  If you're reading this message in another frontend (for example, a static\n",
       "  rendering on GitHub or <a href=\"https://nbviewer.jupyter.org/\">NBViewer</a>),\n",
       "  it may mean that your frontend doesn't currently support widgets.\n",
       "</p>\n"
      ],
      "text/plain": [
       "interactive(children=(IntRangeSlider(value=(8400, 8700), description='lambda_bounds', max=9500, min=6250, step=50), Output()), _dom_classes=('widget-interact',))"
      ]
     },
     "metadata": {},
     "output_type": "display_data"
    },
    {
     "name": "stdout",
     "output_type": "stream",
     "text": [
      "Unmasked pixels = 5640\n",
      "Masked pixels = 10610\n",
      "(Includes Telluric mask and masking of blue CCD)\n"
     ]
    }
   ],
   "source": [
    "# Restore Observed spectra\n",
    "D_PayneDir = utils.D_PayneDir\n",
    "SpectraDir = D_PayneDir + 'spectra/obs_spectra/'\n",
    "SpectraFile = 'm15_Horne.npz'\n",
    "temp = np.load(SpectraDir + SpectraFile)\n",
    "obj = temp['obj']\n",
    "spec = temp['spec']\n",
    "spectral_err = temp['spec_err']\n",
    "dv = temp['dv']\n",
    "RA_Dec = SkyCoord(temp['RA_Dec'])\n",
    "temp.close()\n",
    "\n",
    "\n",
    "# Standard Labels from APOGEE\n",
    "matches = [8, 26]\n",
    "feh = [0.33, -1.26]\n",
    "alpha = [0.23, -0.36]\n",
    "Teff = [5663.6, 5650.5]\n",
    "logg = [4.3, 3.64]\n",
    "dv = [0.0, 0.0]\n",
    "\n",
    "\n",
    "i = 0\n",
    "j = matches[i]\n",
    "\n",
    "\n",
    "# read in the standard wavelength grid onto which we interpolate spectra.\n",
    "wavelength = utils.load_wavelength_array()\n",
    "\n",
    "# read in all individual neural networks we'll need. \n",
    "NN_coeffs = utils.read_in_neural_network(name='norm_spectra_approx')\n",
    "\n",
    "# Generate a spectrum from \"standard\" labels and NN\n",
    "alphafe = alpha[i] - feh[i]\n",
    "real_labels = np.array([alphafe, alpha[i], alpha[i], alpha[i], alpha[i], alpha[i], alpha[i],\n",
    "                        feh[i], Teff[i], logg[i], dv[i]])\n",
    "model_spec = NN.get_spectrum_from_neural_net(labels=real_labels, NN_coeffs=NN_coeffs)\n",
    "\n",
    "\n",
    "# Restore Observed Spectra\n",
    "norm_spec = spec[j]\n",
    "spec_err = spectral_err[j]\n",
    "\n",
    "\n",
    "# Generate Mask\n",
    "Mask_Cut = 0.04\n",
    "model_err = norm_spec - model_spec\n",
    "mask = np.argwhere(np.abs(model_err) > Mask_Cut)\n",
    "np.save(D_PayneDir + '/other_data/mask.' + obj[j], mask)\n",
    "spec_err[mask] = 1e16\n",
    "unmasked_wavelength = wavelength[spec_err < 1e16]\n",
    "masked_wavelength = wavelength[spec_err == 1e16]\n",
    "\n",
    "def plot_mask(lambda_bounds):\n",
    "    # Plot Observed and Model Spectra w/ Mask Overplotted\n",
    "    lambda_min = lambda_bounds[0]\n",
    "    lambda_max = lambda_bounds[1]\n",
    "    m = (wavelength < lambda_max) & (wavelength > lambda_min)\n",
    "    fig, (ax1, ax2) = plt.subplots(2, sharex=True, figsize=(14, 4))\n",
    "    ax1.plot(wavelength[m], norm_spec[m], 'k', lw=0.5, label = r'$\\mathrm{Observed\\ Spectra}$')\n",
    "    ax1.plot(wavelength[m], model_spec[m], 'r--', lw=0.5, label = r'$\\mathrm{Model\\ Spectra}$')\n",
    "    ax1.vlines(masked_wavelength, 0.7, 1.1, color='r', alpha=0.5)\n",
    "    ax1.set_xlim(lambda_min, lambda_max)\n",
    "    ax1.set_ylim(0.70,1.10)\n",
    "    ax1.set_ylabel(r'$\\mathrm{Normalized\\ Flux}$')\n",
    "    ax1.legend(loc = 'best', frameon = True, fontsize = 12)\n",
    "    ax2.plot(wavelength[m], norm_spec[m]-model_spec[m], 'k', lw=0.5)\n",
    "    \n",
    "    ax2.vlines(masked_wavelength, -0.15, 0.15, color='r', alpha=0.5)\n",
    "    ax2.hlines(0, lambda_min, lambda_max, linestyles='-')\n",
    "    ax2.hlines(Mask_Cut, lambda_min, lambda_max, linestyles=':', color='b')\n",
    "    ax2.hlines(-Mask_Cut, lambda_min, lambda_max, linestyles=':', color='b')\n",
    "    ax2.set_ylim(-0.15,0.15)\n",
    "    ax2.set_xlabel(r'$\\mathrm{Wavelength\\ [\\AA]}$')\n",
    "    ax2.set_ylabel(r'$\\mathrm{Residuals}$')\n",
    "    \n",
    "    plt.suptitle('Obj: %s\\n\\\n",
    "                 RA: %.5f Dec: %.5f' % (obj[j], RA_Dec[j].ra.deg, RA_Dec[j].dec.deg))\n",
    "    fig.subplots_adjust(hspace=0)\n",
    "    plt.setp([a.get_xticklabels() for a in fig.axes[:-1]], visible=False)\n",
    "    plt.show()\n",
    "interact(plot_mask, lambda_bounds=widgets.IntRangeSlider(min=6250,max=9500,step=50,value=[8400,8700]))\n",
    "\n",
    "\n",
    "print('Unmasked pixels = %i' % len(unmasked_wavelength))\n",
    "print('Masked pixels = %i' % len(masked_wavelength))\n",
    "print('(Includes Telluric mask and masking of blue CCD)')"
   ]
  },
  {
   "cell_type": "code",
   "execution_count": null,
   "metadata": {},
   "outputs": [],
   "source": []
  }
 ],
 "metadata": {
  "anaconda-cloud": {},
  "kernelspec": {
   "display_name": "Python 3 for DEIMOS",
   "language": "python",
   "name": "python3-deimos"
  },
  "language_info": {
   "codemirror_mode": {
    "name": "ipython",
    "version": 3
   },
   "file_extension": ".py",
   "mimetype": "text/x-python",
   "name": "python",
   "nbconvert_exporter": "python",
   "pygments_lexer": "ipython3",
   "version": "3.6.4"
  }
 },
 "nbformat": 4,
 "nbformat_minor": 1
}
