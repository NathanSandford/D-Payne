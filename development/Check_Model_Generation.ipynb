{
 "cells": [
  {
   "cell_type": "code",
   "execution_count": 1,
   "metadata": {},
   "outputs": [],
   "source": [
    "import numpy as np\n",
    "import matplotlib.pyplot as plt\n",
    "import os\n",
    "import glob"
   ]
  },
  {
   "cell_type": "markdown",
   "metadata": {},
   "source": [
    "# Determine Successful and Unsuccessful Models"
   ]
  },
  {
   "cell_type": "code",
   "execution_count": 57,
   "metadata": {},
   "outputs": [
    {
     "data": {
      "image/png": "[encoded data removed]",
      "text/plain": [
       "<matplotlib.figure.Figure at 0x2b6003b10748>"
      ]
     },
     "metadata": {},
     "output_type": "display_data"
    }
   ],
   "source": [
    "feh = -1\n",
    "\n",
    "# Read in labels from input list\n",
    "temp = np.load('/global/home/users/nathan_sandford/kurucz/input/grid_fehm%i.npz' % np.abs(feh))\n",
    "labels = temp['labels']\n",
    "\n",
    "# Find all successful models\n",
    "khome='/global/scratch/nathan_sandford/kurucz_old'\n",
    "list_models_crash = [os.path.basename(x)[:5] for x in glob.glob(khome+\"/grids/at*/crash/*.atm\")]\n",
    "list_models_done = [os.path.basename(x)[5:10] for x in glob.glob(khome+\"/grids/at*/spec/*.gz\")]\n",
    "list_models_done_previously = [os.path.basename(x)[5:10] for x in glob.glob(khome+\"/Sync_Spectra_All_Atm_m%i/*\" % np.abs(feh))]\n",
    "\n",
    "list_models_all = []\n",
    "naming_index = [\"a\", \"b\", \"c\", \"d\", \"e\", \"f\", \"g\", \"h\", \"i\", \"j\"]\n",
    "for i in range(len(labels[0])):\n",
    "    if i < 10:\n",
    "        model = 'aaaa' + naming_index[int(str(i)[0])]\n",
    "    if i < 100 and i >= 10:\n",
    "        model = 'aaa' + naming_index[int(str(i)[0])] \\\n",
    "            + naming_index[int(str(i)[1])]\n",
    "    if i < 1000 and i >= 100:\n",
    "        model = 'aa' + naming_index[int(str(i)[0])] \\\n",
    "            + naming_index[int(str(i)[1])] + naming_index[int(str(i)[2])]\n",
    "    if i < 10000 and i >= 1000:\n",
    "        model = 'a' + naming_index[int(str(i)[0])] \\\n",
    "            + naming_index[int(str(i)[1])] + naming_index[int(str(i)[2])] \\\n",
    "            + naming_index[int(str(i)[3])]\n",
    "    if i < 100000 and i >= 10000:\n",
    "        model = naming_index[int(str(i)[0])] \\\n",
    "            + naming_index[int(str(i)[1])] + naming_index[int(str(i)[2])] \\\n",
    "            + naming_index[int(str(i)[3])] + naming_index[int(str(i)[4])]\n",
    "    list_models_all = list_models_all + [model]\n",
    "\n",
    "list_models_crash.sort()\n",
    "list_models_done.sort()\n",
    "list_models_all.sort()\n",
    "\n",
    "#fail = [list_models_all.index(x) for x in list_models_all if x not in list_models_done]\n",
    "success = [list_models_all.index(x) for x in list_models_all if x in list_models_done]\n",
    "success_previous = [list_models_all.index(x) for x in list_models_all if x in list_models_done_previously]\n",
    "crash = [list_models_all.index(x) for x in list_models_all if x in list_models_crash]\n",
    "remaining = [list_models_all.index(x) for x in list_models_all if x not in list_models_crash or list_models_done_previously or list_models_done]\n",
    "\n",
    "remaining_labels = temp['labels'][:,remaining]\n",
    "crashed_labels = temp['labels'][:,crash]\n",
    "new_successful_labels = temp['labels'][:,success]\n",
    "successful_labels = temp['labels'][:,success_previous]\n",
    "\n",
    "\n",
    "\n",
    "plt.scatter(remaining_labels[0,:],remaining_labels[1,:],label='in progress',marker='.',c='k')\n",
    "plt.scatter(crashed_labels[0,:],crashed_labels[1,:],label='crashed',marker='.',c='r')\n",
    "plt.scatter(successful_labels[0,:],successful_labels[1,:],label='successful',marker='.',c='g')\n",
    "plt.scatter(new_successful_labels[0,:],new_successful_labels[1,:],label='new',marker='.',c='y')\n",
    "plt.gca().invert_xaxis()\n",
    "plt.xlabel('T [k]')\n",
    "plt.ylabel('log(g)')\n",
    "plt.legend(bbox_to_anchor=(1., 1.03))\n",
    "plt.show()"
   ]
  },
  {
   "cell_type": "markdown",
   "metadata": {},
   "source": [
    "# Move successful atmospheres into \"Sync_Spectra_All_Atm_m%i\" % [Fe/H]"
   ]
  },
  {
   "cell_type": "code",
   "execution_count": 56,
   "metadata": {},
   "outputs": [],
   "source": [
    "feh = -1\n",
    "\n",
    "for model in list_models_done:\n",
    "    atm_path = khome+'/grids/at12_'+model+'/atm/at12_'+model+'_t*.atm'\n",
    "    destination = khome+'/Sync_Spectra_All_Atm_m%i/' % np.abs(feh)\n",
    "    cmd = \"cp \"+atm_path+' '+destination\n",
    "    os.system(cmd)"
   ]
  },
  {
   "cell_type": "code",
   "execution_count": null,
   "metadata": {},
   "outputs": [],
   "source": []
  }
 ],
 "metadata": {
  "kernelspec": {
   "display_name": "Python 3 for DEIMOS",
   "language": "python",
   "name": "python3-deimos"
  },
  "language_info": {
   "codemirror_mode": {
    "name": "ipython",
    "version": 3
   },
   "file_extension": ".py",
   "mimetype": "text/x-python",
   "name": "python",
   "nbconvert_exporter": "python",
   "pygments_lexer": "ipython3",
   "version": "3.6.4"
  }
 },
 "nbformat": 4,
 "nbformat_minor": 2
}
